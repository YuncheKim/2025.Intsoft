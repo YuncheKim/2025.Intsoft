{
  "cells": [
    {
      "cell_type": "code",
      "execution_count": 1,
      "metadata": {
        "id": "1FZJqk0FGm0f"
      },
      "outputs": [],
      "source": [
        "import numpy as np\n",
        "import torch\n",
        "import torch.nn as nn\n",
        "import torch.optim as optim\n",
        "import torchvision.datasets as dset\n",
        "import torchvision.transforms as transforms\n",
        "from torch.utils.data import DataLoader\n",
        "import matplotlib.pyplot as plt"
      ]
    },
    {
      "cell_type": "code",
      "execution_count": 2,
      "metadata": {
        "id": "HqgSaXNEIkDA"
      },
      "outputs": [],
      "source": [
        "#Encoder\n",
        "class Encoder(nn.Module):\n",
        "    def __init__(self):\n",
        "        super(Encoder, self).__init__()\n",
        "        self.layer1 = nn.Sequential(\n",
        "            nn.Conv2d(1, 16, 3, padding=1),\n",
        "            nn.ReLU(),\n",
        "            nn.BatchNorm2d(16),\n",
        "\n",
        "            nn.Conv2d(16, 32, 3, padding=1),\n",
        "            nn.ReLU(),\n",
        "            nn.BatchNorm2d(32),\n",
        "\n",
        "            nn.Conv2d(32, 64, 3, padding=1),\n",
        "            nn.ReLU(),\n",
        "            nn.BatchNorm2d(64),\n",
        "\n",
        "            nn.MaxPool2d(2, 2)   # 64 x 14 x 14\n",
        "        )\n",
        "        self.layer2 = nn.Sequential(\n",
        "            nn.Conv2d(64, 128, 3, padding=1),\n",
        "            nn.ReLU(),\n",
        "            nn.BatchNorm2d(128),\n",
        "\n",
        "            nn.MaxPool2d(2, 2),  # 128 x 7 x 7\n",
        "            nn.Conv2d(128, 256, 3, padding=1),\n",
        "            nn.ReLU()\n",
        "        )\n",
        "\n",
        "    def forward(self, x):\n",
        "        out = self.layer1(x)\n",
        "        out = self.layer2(out)\n",
        "        out = out.view(x.size(0), -1)\n",
        "        return out\n",
        "\n",
        "\n",
        "\n",
        "#Decoder\n",
        "class Decoder(nn.Module):\n",
        "    def __init__(self):\n",
        "        super(Decoder, self).__init__()\n",
        "        self.layer1 = nn.Sequential(\n",
        "            nn.ConvTranspose2d(256, 128, 3, stride=2, padding=1, output_padding=1),\n",
        "            nn.ReLU(),\n",
        "            nn.BatchNorm2d(128),\n",
        "\n",
        "            nn.ConvTranspose2d(128, 64, 3, stride=2, padding=1, output_padding=1),\n",
        "            nn.ReLU(),\n",
        "            nn.BatchNorm2d(64)\n",
        "        )\n",
        "        self.layer2 = nn.Sequential(\n",
        "            nn.ConvTranspose2d(64, 32, 3, padding=1),\n",
        "            nn.ReLU(),\n",
        "            nn.BatchNorm2d(32),\n",
        "\n",
        "            nn.ConvTranspose2d(32, 16, 3, padding=1),\n",
        "            nn.ReLU(),\n",
        "            nn.BatchNorm2d(16),\n",
        "\n",
        "            nn.ConvTranspose2d(16, 1, 3, padding=1),\n",
        "            nn.Sigmoid()   # [0,1] 범위\n",
        "        )\n",
        "\n",
        "    def forward(self, x):\n",
        "        out = x.view(x.size(0), 256, 7, 7)  # encoder에서 flatten된 걸 복원\n",
        "        out = self.layer1(out)\n",
        "        out = self.layer2(out)\n",
        "        return out\n",
        "\n",
        "\n",
        "#Autoencoder\n",
        "class Autoencoder(nn.Module):\n",
        "    def __init__(self):\n",
        "        super(Autoencoder, self).__init__()\n",
        "        self.encoder = Encoder()\n",
        "        self.decoder = Decoder()\n",
        "\n",
        "    def forward(self, x):\n",
        "        out = self.encoder(x)\n",
        "        out = self.decoder(out)\n",
        "        return out"
      ]
    },
    {
      "cell_type": "code",
      "execution_count": 3,
      "metadata": {
        "colab": {
          "base_uri": "https://localhost:8080/"
        },
        "id": "9K9EgRObIE12",
        "outputId": "e6a961c8-f869-42bd-9980-9dadb056c257"
      },
      "outputs": [
        {
          "output_type": "stream",
          "name": "stderr",
          "text": [
            "100%|██████████| 9.91M/9.91M [00:00<00:00, 18.0MB/s]\n",
            "100%|██████████| 28.9k/28.9k [00:00<00:00, 486kB/s]\n",
            "100%|██████████| 1.65M/1.65M [00:00<00:00, 4.45MB/s]\n",
            "100%|██████████| 4.54k/4.54k [00:00<00:00, 6.16MB/s]\n"
          ]
        }
      ],
      "source": [
        "\n",
        "#데이터(MNIST)\n",
        "mnist_train = dset.MNIST(\"./data/MNIST\", train=True,\n",
        "                         transform=transforms.ToTensor(),\n",
        "                         download=True)\n",
        "mnist_test = dset.MNIST(\"./data/MNIST\", train=False,\n",
        "                        transform=transforms.ToTensor(),\n",
        "                        download=True)\n",
        "\n",
        "batch_size = 100\n",
        "train_loader = DataLoader(mnist_train, batch_size=batch_size, shuffle=True, drop_last=True)\n",
        "test_loader = DataLoader(mnist_test, batch_size=batch_size, shuffle=False, drop_last=True)"
      ]
    },
    {
      "cell_type": "code",
      "execution_count": 4,
      "metadata": {
        "colab": {
          "base_uri": "https://localhost:8080/"
        },
        "id": "eO2EeEvgI448",
        "outputId": "a8b51605-806d-4084-f1e6-771fcf9541ee"
      },
      "outputs": [
        {
          "output_type": "stream",
          "name": "stdout",
          "text": [
            "Epoch [1/10], Loss: 0.0032\n",
            "Epoch [2/10], Loss: 0.0018\n",
            "Epoch [3/10], Loss: 0.0016\n",
            "Epoch [4/10], Loss: 0.0010\n",
            "Epoch [5/10], Loss: 0.0010\n",
            "Epoch [6/10], Loss: 0.0009\n",
            "Epoch [7/10], Loss: 0.0008\n",
            "Epoch [8/10], Loss: 0.0006\n",
            "Epoch [9/10], Loss: 0.0006\n",
            "Epoch [10/10], Loss: 0.0005\n"
          ]
        }
      ],
      "source": [
        "#준비\n",
        "num_epoch = 10\n",
        "learning_rate = 0.0002\n",
        "device = torch.device(\"cuda\" if torch.cuda.is_available() else \"cpu\")\n",
        "\n",
        "autoencoder = Autoencoder().to(device)\n",
        "loss_func = nn.MSELoss()\n",
        "optimizer = optim.Adam(autoencoder.parameters(), lr=learning_rate)\n",
        "\n",
        "#루프\n",
        "for epoch in range(num_epoch):\n",
        "    for batch_idx, (image, _) in enumerate(train_loader):\n",
        "        image = image.to(device)\n",
        "\n",
        "        optimizer.zero_grad()\n",
        "        output = autoencoder(image)\n",
        "        loss = loss_func(output, image)\n",
        "        loss.backward()\n",
        "        optimizer.step()\n",
        "\n",
        "    print(\"Epoch [{}/{}], Loss: {:.4f}\".format(epoch+1, num_epoch, loss.item()))"
      ]
    },
    {
      "cell_type": "code",
      "execution_count": 5,
      "metadata": {
        "id": "f9EIBUEkJD65",
        "colab": {
          "base_uri": "https://localhost:8080/",
          "height": 324
        },
        "outputId": "bc6e68e6-2637-4a68-81cd-3a22f005b9c6"
      },
      "outputs": [
        {
          "output_type": "display_data",
          "data": {
            "text/plain": [
              "<Figure size 640x480 with 10 Axes>"
            ],
            "image/png": "[encoded data removed]"
          },
          "metadata": {}
        }
      ],
      "source": [
        "#테스트결과\n",
        "autoencoder.eval()\n",
        "with torch.no_grad():\n",
        "    for image, _ in test_loader:\n",
        "        image = image.to(device)\n",
        "        output = autoencoder(image)\n",
        "        break\n",
        "#CPU변환\n",
        "image = image.cpu()\n",
        "output = output.cpu().detach()\n",
        "\n",
        "\n",
        "#시각화\n",
        "for i in range(5):\n",
        "    plt.subplot(2, 5, i+1)\n",
        "    plt.imshow(image[i][0], cmap='gray')\n",
        "    plt.axis(\"off\")\n",
        "\n",
        "    plt.subplot(2, 5, i+6)\n",
        "    plt.imshow(output[i][0], cmap='gray')\n",
        "    plt.axis(\"off\")\n",
        "\n",
        "plt.show()"
      ]
    }
  ],
  "metadata": {
    "colab": {
      "provenance": []
    },
    "kernelspec": {
      "display_name": "Python 3",
      "name": "python3"
    },
    "language_info": {
      "name": "python"
    }
  },
  "nbformat": 4,
  "nbformat_minor": 0
}